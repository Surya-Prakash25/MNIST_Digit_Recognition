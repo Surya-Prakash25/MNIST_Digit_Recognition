{
 "cells": [
  {
   "cell_type": "markdown",
   "id": "4b9765a5-297d-4692-b9f8-134476181fc3",
   "metadata": {},
   "source": [
    "## Importing Libraries"
   ]
  },
  {
   "cell_type": "code",
   "execution_count": 1,
   "id": "d8e6f2fa-90c8-404c-aa82-db45441e3d9c",
   "metadata": {},
   "outputs": [],
   "source": [
    "import matplotlib.pyplot as plt\n",
    "import tensorflow as tf  \n",
    "import numpy as np\n",
    "\n",
    "from keras.datasets import mnist\n",
    "from sklearn.model_selection import train_test_split \n",
    "from tensorflow.keras.models import Sequential \n",
    "\n",
    "from tensorflow.keras.layers import (  \n",
    "    Conv2D, MaxPooling2D,\n",
    "    Dense, Dropout, Flatten,\n",
    "    BatchNormalization\n",
    ")"
   ]
  },
  {
   "cell_type": "markdown",
   "id": "5fe6fcfe-ce37-46ce-944b-d345a2c68087",
   "metadata": {},
   "source": [
    "## Split Data"
   ]
  },
  {
   "cell_type": "code",
   "execution_count": 2,
   "id": "d90e96b1-ca92-4d28-9b43-0c0f6e39ca4d",
   "metadata": {},
   "outputs": [],
   "source": [
    "(X_train, y_train), (X_test, y_test) = mnist.load_data()"
   ]
  },
  {
   "cell_type": "code",
   "execution_count": 3,
   "id": "92a12cf4-0936-4117-a0f6-4d39ffdd1215",
   "metadata": {},
   "outputs": [
    {
     "name": "stdout",
     "output_type": "stream",
     "text": [
      "(60000, 28, 28)\n",
      "(10000, 28, 28)\n"
     ]
    }
   ],
   "source": [
    "print(X_train.shape)\n",
    "print(X_test.shape)"
   ]
  },
  {
   "cell_type": "code",
   "execution_count": 4,
   "id": "d2c40ac7-aa45-4e76-bf58-14d68e1078b1",
   "metadata": {},
   "outputs": [
    {
     "data": {
      "text/plain": [
       "<matplotlib.image.AxesImage at 0x1d6ff9cf810>"
      ]
     },
     "execution_count": 4,
     "metadata": {},
     "output_type": "execute_result"
    },
    {
     "data": {
      "image/png": "[encoded data removed]",
      "text/plain": [
       "<Figure size 640x480 with 1 Axes>"
      ]
     },
     "metadata": {},
     "output_type": "display_data"
    }
   ],
   "source": [
    "plt.imshow(X_train[4],cmap='binary')"
   ]
  },
  {
   "cell_type": "markdown",
   "id": "b2f2d866-e7b9-48be-8b3b-bca61d7e09ce",
   "metadata": {},
   "source": [
    "## Preprocess Data and Visualize Samples"
   ]
  },
  {
   "cell_type": "code",
   "execution_count": 5,
   "id": "e8c391c7-017d-41ff-96f3-fd7943723b2b",
   "metadata": {},
   "outputs": [],
   "source": [
    "X_train = X_train.reshape(-1, 28, 28, 1) / 255.0  # Reshape to (28, 28, 1) and normalize\n",
    "X_test = X_test.reshape(-1, 28, 28, 1) / 255.0    # Reshape to (28, 28, 1) and normalize\n",
    "\n",
    "# One-hot encode the labels\n",
    "y_train = tf.one_hot(y_train, 10)   # One-hot encode training labels\n",
    "y_test = tf.one_hot(y_test, 10)     # One-hot encode testing labels\n"
   ]
  },
  {
   "cell_type": "code",
   "execution_count": 7,
   "id": "a14d34a3-1a1d-4f89-ba07-3a2c89115d92",
   "metadata": {},
   "outputs": [
    {
     "data": {
      "text/plain": [
       "[Text(0.5, 1.0, 'label: 1')]"
      ]
     },
     "execution_count": 7,
     "metadata": {},
     "output_type": "execute_result"
    },
    {
     "data": {
      "image/png": "[encoded data removed]",
      "text/plain": [
       "<Figure size 300x300 with 1 Axes>"
      ]
     },
     "metadata": {},
     "output_type": "display_data"
    }
   ],
   "source": [
    "fig, axes = plt.subplots(1, 1, figsize=(3, 3))\n",
    "axes.imshow(X_train[i].squeeze(), cmap='binary')  # Display image\n",
    "digit = np.argmax(y_train[i])                     # Get the label\n",
    "axes.set(title = f\"label: {digit}\")               # Set title"
   ]
  },
  {
   "cell_type": "markdown",
   "id": "f69947ea-41cb-440c-8efb-7d08c079ae3a",
   "metadata": {},
   "source": [
    "## Define the Model"
   ]
  },
  {
   "cell_type": "code",
   "execution_count": 8,
   "id": "c566e2a6-50c3-46f2-9cc1-7e880f1be171",
   "metadata": {},
   "outputs": [
    {
     "name": "stdout",
     "output_type": "stream",
     "text": [
      "Model: \"sequential\"\n",
      "_________________________________________________________________\n",
      " Layer (type)                Output Shape              Param #   \n",
      "=================================================================\n",
      " conv2d (Conv2D)             (None, 26, 26, 64)        640       \n",
      "                                                                 \n",
      " conv2d_1 (Conv2D)           (None, 24, 24, 64)        36928     \n",
      "                                                                 \n",
      " max_pooling2d (MaxPooling2  (None, 12, 12, 64)        0         \n",
      " D)                                                              \n",
      "                                                                 \n",
      " batch_normalization (Batch  (None, 12, 12, 64)        256       \n",
      " Normalization)                                                  \n",
      "                                                                 \n",
      " conv2d_2 (Conv2D)           (None, 10, 10, 128)       73856     \n",
      "                                                                 \n",
      " conv2d_3 (Conv2D)           (None, 8, 8, 128)         147584    \n",
      "                                                                 \n",
      " max_pooling2d_1 (MaxPoolin  (None, 4, 4, 128)         0         \n",
      " g2D)                                                            \n",
      "                                                                 \n",
      " batch_normalization_1 (Bat  (None, 4, 4, 128)         512       \n",
      " chNormalization)                                                \n",
      "                                                                 \n",
      " conv2d_4 (Conv2D)           (None, 2, 2, 256)         295168    \n",
      "                                                                 \n",
      " max_pooling2d_2 (MaxPoolin  (None, 1, 1, 256)         0         \n",
      " g2D)                                                            \n",
      "                                                                 \n",
      " flatten (Flatten)           (None, 256)               0         \n",
      "                                                                 \n",
      " batch_normalization_2 (Bat  (None, 256)               1024      \n",
      " chNormalization)                                                \n",
      "                                                                 \n",
      " dense (Dense)               (None, 512)               131584    \n",
      "                                                                 \n",
      " dropout (Dropout)           (None, 512)               0         \n",
      "                                                                 \n",
      " dense_1 (Dense)             (None, 10)                5130      \n",
      "                                                                 \n",
      "=================================================================\n",
      "Total params: 692682 (2.64 MB)\n",
      "Trainable params: 691786 (2.64 MB)\n",
      "Non-trainable params: 896 (3.50 KB)\n",
      "_________________________________________________________________\n"
     ]
    }
   ],
   "source": [
    "model = Sequential([\n",
    "    Conv2D(filters=64, kernel_size=(3,3), activation=\"relu\", input_shape=(28, 28, 1)),  # First convolutional layer\n",
    "    Conv2D(filters=64, kernel_size=(3,3), activation=\"relu\"),                           # Second convolutional layer\n",
    "    \n",
    "    MaxPooling2D(pool_size=(2,2)),  # First max-pooling layer\n",
    "    BatchNormalization(),           # Batch normalization\n",
    "    \n",
    "    Conv2D(filters=128, kernel_size=(3,3), activation=\"relu\"),  # Third convolutional layer\n",
    "    Conv2D(filters=128, kernel_size=(3,3), activation=\"relu\"),  # Fourth convolutional layer\n",
    "    \n",
    "    MaxPooling2D(pool_size=(2,2)),  # Second max-pooling layer\n",
    "    BatchNormalization(),           # Batch normalization\n",
    "    \n",
    "    Conv2D(filters=256, kernel_size=(3,3), activation=\"relu\"),  # Fifth convolutional layer\n",
    "    \n",
    "    MaxPooling2D(pool_size=(2,2)),  # Third max-pooling layer\n",
    "    Flatten(),                      # Flatten the output\n",
    "    BatchNormalization(),           # Batch normalization\n",
    "    \n",
    "    Dense(512, activation=\"relu\"),  # Fully connected layer with 512 units\n",
    "    Dropout(0.5),                   # Dropout for regularization\n",
    "    Dense(10, activation=\"softmax\") # Output layer with 10 units (one for each class)\n",
    "])\n",
    "\n",
    "# Display the model summary\n",
    "model.summary()"
   ]
  },
  {
   "cell_type": "markdown",
   "id": "50719b6c-9a3f-4453-b153-4b2fcf8d29b2",
   "metadata": {},
   "source": [
    "## Compile and Train the Model"
   ]
  },
  {
   "cell_type": "code",
   "execution_count": 9,
   "id": "2c4993c3-2bbb-4e89-9287-7bfc9ca20361",
   "metadata": {},
   "outputs": [
    {
     "name": "stdout",
     "output_type": "stream",
     "text": [
      "750/750 [==============================] - 295s 388ms/step - loss: 0.1153 - accuracy: 0.9646 - val_loss: 0.0522 - val_accuracy: 0.9847\n"
     ]
    }
   ],
   "source": [
    "model.compile(loss=\"categorical_crossentropy\", optimizer=\"adam\", metrics=[\"accuracy\"])\n",
    "\n",
    "# Train the model\n",
    "history = model.fit(\n",
    "    X_train,\n",
    "    y_train,\n",
    "    batch_size=64,\n",
    "    epochs=3,\n",
    "    validation_split=0.2\n",
    ")\n"
   ]
  },
  {
   "cell_type": "markdown",
   "id": "ec357e61-e0e4-424e-b251-a25b9351f8e7",
   "metadata": {},
   "source": [
    " ## Make Predictions and Visualize Results"
   ]
  },
  {
   "cell_type": "code",
   "execution_count": 10,
   "id": "31cc8c15-74c7-4893-9550-2d0b96bb2778",
   "metadata": {},
   "outputs": [
    {
     "name": "stdout",
     "output_type": "stream",
     "text": [
      "313/313 [==============================] - 16s 49ms/step\n"
     ]
    }
   ],
   "source": [
    "y_pred = model.predict(X_test)"
   ]
  },
  {
   "cell_type": "code",
   "execution_count": 12,
   "id": "bc4b81aa-8756-486d-8a38-6799566ff424",
   "metadata": {},
   "outputs": [
    {
     "data": {
      "image/png": "[encoded data removed]",
      "text/plain": [
       "<Figure size 300x300 with 1 Axes>"
      ]
     },
     "metadata": {},
     "output_type": "display_data"
    }
   ],
   "source": [
    "fig, axes = plt.subplots(1, 1, figsize=(3, 3))\n",
    "axes.imshow(X_test[i].squeeze(), cmap='binary')  # Display image\n",
    "digit = np.argmax(y_test[i])                   # Get the true label\n",
    "axes.set(title = f\"Prediction: {digit}\")         # Set title\n",
    "fig.suptitle(\"Test Predictions\")\n",
    "fig.tight_layout()\n"
   ]
  }
 ],
 "metadata": {
  "kernelspec": {
   "display_name": "Python 3 (ipykernel)",
   "language": "python",
   "name": "python3"
  },
  "language_info": {
   "codemirror_mode": {
    "name": "ipython",
    "version": 3
   },
   "file_extension": ".py",
   "mimetype": "text/x-python",
   "name": "python",
   "nbconvert_exporter": "python",
   "pygments_lexer": "ipython3",
   "version": "3.11.4"
  }
 },
 "nbformat": 4,
 "nbformat_minor": 5
}
